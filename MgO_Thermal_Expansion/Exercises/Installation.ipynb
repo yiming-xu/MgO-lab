{
 "cells": [
  {
   "cell_type": "markdown",
   "metadata": {},
   "source": [
    "## Installation guide\n",
    "\n",
    "On a Windows computer (of the Chemistry computer room):\n",
    "1. Download the folder containing the Jupyter notebook and save it in Downloads;\n",
    "2. Launch the Jupyter notebook application that you can find in the Start menu;\n",
    "3. Open the folder you just downloaded and from there open the file called THE_LAB. From this one, you will find links to all the other parts of the lab.\n",
    "\n",
    "On Linux/Mac OS from the command line:\n",
    "1. If you already have conda installed you can go to point 6. If you also have gulp installed you can go to point 9;\n",
    "2. Download the conda environment file MgO_lab_env.yml. This is a text file containing the list of the packages you need to install in order to be able to run the lab;\n",
    "3. Open a terminal and, from the folder where MgO_lab_env.yml was saved, type: conda env create -f MgO_lab_env.yml;\n",
    "4. Activate the environment: source activate TE_lab;\n",
    "5. Download GULP from the website (http://gulp.curtin.edu.au/gulp/request.cfm?rel=download). The version 5.0 only has the source files. Download this one if you feel comfortable with compiling it by yourself. Otherwise, download version 4.3 which has the executable ready to download;\n",
    "6. Set the \\$GULP_LIB and \\$ASE_GULP_COMMAND variables. This has to go in your ~/.bashrc or ~/.bash_profile (or the equivalent file if you are using a different kind of shell, or example in Windows). See this page for more information https://wiki.fysik.dtu.dk/ase/ase/calculators/gulp.html);\n",
    "7. Download the folder containing the Jupyter notebooks for [lab scripts]<font color=red>(ADD link to folder)</font>;\n",
    "8. Download the ionic.lib file in the \\$GULP_LIB folder;\n",
    "9. From the terminal where you activated the environment start the notebook app: jupyter notebook;\n",
    "10. Open the folder you just downloaded and from there open the file called THE_LAB. From this one, you will find links to all the other parts of the lab.\n",
    "\n",
    "On Linux/Mac/Windows OS from the anaconda interface:\n",
    "1. Download and install Anaconda (https://www.anaconda.com/download/);\n",
    "2. Download the ASE package (https://anaconda.org/conda-forge/ase);\n",
    "3. Download the environment file MgO_lab_env.yml and import it to anaconda by using the \"import\" function in the Anaconda interface;\n",
    "4. Install gulp by following the points 5 to 8 of the Section above;\n",
    "5. Select the MgO_lab environment;\n",
    "6. Open Jupyter and run the lab.\n",
    "\n"
   ]
  }
 ],
 "metadata": {
  "kernelspec": {
   "display_name": "Python 3",
   "language": "python",
   "name": "python3"
  },
  "language_info": {
   "codemirror_mode": {
    "name": "ipython",
    "version": 3
   },
   "file_extension": ".py",
   "mimetype": "text/x-python",
   "name": "python",
   "nbconvert_exporter": "python",
   "pygments_lexer": "ipython3",
   "version": "3.6.5"
  }
 },
 "nbformat": 4,
 "nbformat_minor": 2
}
