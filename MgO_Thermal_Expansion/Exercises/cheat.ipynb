{
 "cells": [
  {
   "cell_type": "markdown",
   "metadata": {},
   "source": [
    "# This is the cheat sheet for the MgO thermal expansion lab\n",
    "\n",
    "Here you can find help about:\n",
    "- [Basic use of the Jupyter notebook](#jupyter)\n",
    "  - [Inserting a figure in a markdow cell](#figure)\n",
    "- [Using the ASE default viewer](#view)\n",
    "- [Visualising the outputs and other files](#outputs)\n",
    "- [Creating loops in python](#loops)\n",
    "- [Writing equations in latex notation](#latex)\n",
    "- [Inserting a table in a markdown cell](#table)"
   ]
  },
  {
   "cell_type": "markdown",
   "metadata": {},
   "source": [
    "### Basic use of the Jupyter notebook <a id='jupyter'></a>\n",
    "\n",
    "You should be familar the Jupyter notebooks. You used them in the first year course [An introduction to data visualisation and analysis using Python](https://github.com/imperialchem/python-data-viz-intro). Please go through the first part of such course if you do not remember how to use a Jupyter notebook, before starting this lab.\n"
   ]
  },
  {
   "cell_type": "markdown",
   "metadata": {},
   "source": [
    "### Using the ASE default viewer<a id='view'></a>\n",
    "**Basic commands**:\n",
    "- rotate the structure by using the right button of your mouse;\n",
    "- zoom in and out by using the central button of your mouse or the '+' and '-' keys on your keyboard;\n",
    "- to repeat the structure use the key 'R' and the panel that opens to specify how many times you want to repeat the structure."
   ]
  },
  {
   "cell_type": "markdown",
   "metadata": {},
   "source": [
    "### Visualising the outputs and other files <a id='output'></a>\n",
    "In the jupyter notebook you can run some commands in a bash-like way. You can read more about that [here](https://ipython.readthedocs.io/en/stable/interactive/magics.html). The main ones you will use in this lab are:\n",
    "- **%more fiename**: this opens the file called *filename*. For example if you run a calculation and you want to see the output you will need to input *%more label.got* in a Jupyter code cell, where label is the name assigned to the calculation;\n",
    "- **! ls -lrt**: the exclamation mark at the beginning of the line is telling the code cell that a bash-like command is about to follow. Bash is a popular language used in the Unix shell."
   ]
  },
  {
   "cell_type": "markdown",
   "metadata": {},
   "source": [
    "### \"for loops\" in python <a id='loops'></a>\n",
    "\n",
    "\"for loops\" are used in programming when there is a part of code that you want to repeat N times, usually by changing one or more values. \n",
    "Some more inforamtion about \"for loops\" and other python structures can be found online where there are plenty of tutorials, such as [this one](https://www.learnpython.org/en/Loops) or [this one](https://wiki.python.org/moin/ForLoop) or even [this one](https://www.w3schools.com/python/python_for_loops.asp).\n",
    "<br>\n",
    "If you want to iterate the same piece of code by changing one of the values in an interval with a certain step you can use the \"[range function](https://www.pythoncentral.io/pythons-range-function-explained/)\".\n",
    "When using this function you need to specify the starting point, the end and the step. Although the starting point and step can be omitted and the standard values of 0 and 1, respectively will be used, we advise, at least until you become confident with python, that you specify the three values. Please notice what happens to the end value in the range function when you run the following code cell. Is it included in the loop?"
   ]
  },
  {
   "cell_type": "code",
   "execution_count": null,
   "metadata": {},
   "outputs": [],
   "source": [
    "# Imagine you want to run a simulation at different temperatures.\n",
    "# You could manually set the T and run the code many times\n",
    "# Or you could create a list of the T you want to simulate\n",
    "temperatures = [100,200,300,400,500]\n",
    "\n",
    "for T in temperatures:\n",
    "    print(T,\"K\")\n",
    "print(\"************\")\n",
    "\n",
    "\n",
    "# Or, since the T is increased in 100K steps you could use a \"range\" function:\n",
    "for T in range(100,500,100):\n",
    "    print(T,\"K\")\n"
   ]
  }
 ],
 "metadata": {
  "kernelspec": {
   "display_name": "Python 2",
   "language": "python",
   "name": "python2"
  },
  "language_info": {
   "codemirror_mode": {
    "name": "ipython",
    "version": 2
   },
   "file_extension": ".py",
   "mimetype": "text/x-python",
   "name": "python",
   "nbconvert_exporter": "python",
   "pygments_lexer": "ipython2",
   "version": "2.7.14"
  }
 },
 "nbformat": 4,
 "nbformat_minor": 2
}
