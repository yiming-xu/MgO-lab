{
 "cells": [
  {
   "cell_type": "markdown",
   "metadata": {},
   "source": [
    "# The Thermal Expansion of MgO - Molecular Dynamics"
   ]
  },
  {
   "cell_type": "markdown",
   "metadata": {},
   "source": [
    "Finally, we are going to calculate the volume of the MgO crystal, at different temperatures, by using molecular dynamics. \n",
    "First, run the calculation for T=100K, a window will open to show you the cell used for this calculation. Then animate the motion of the atoms by using the cell below.<br>\n",
    "You will notice that as the atoms move, some of them seem to disappear. Analise the trajectory file frame by frame (by using the back/forward buttons) and understand where the atoms are going.<br>\n",
    "Now uncomment (remove the '#' from) the third to the bottom line: <br><br>\n",
    "MgO_SC_MD_out = cut(MgO_SC_MD, origo=(MgO_SC_MD.get_center_of_mass(scaled=True)),extend=1.01)\n",
    "<br><br>\n",
    "and run the MD calculation again. <font color=blue>What happens if you animate the motion of the atoms this time?</font>. Use this settings for the following calculations. Increase the T from 100K to 1000K in 100K intervals. As in the previous exercise you can do so by manually changing the T value in the input below, or you can write a for loop that will do that for you.\n",
    "\n",
    "\n",
    "<br><br>"
   ]
  },
  {
   "cell_type": "code",
   "execution_count": null,
   "metadata": {},
   "outputs": [],
   "source": [
    "#the imports first, always\n",
    "import numpy as np\n",
    "import re\n",
    "import os\n",
    "from ase.build import make_supercell\n",
    "from ase.io import Trajectory\n",
    "from ase.build import cut\n",
    "from os import remove\n",
    "from ase.spacegroup import crystal\n",
    "from ase.visualize import view\n",
    "from ase.calculators.gulp import GULP\n",
    "\n",
    "#SELECT THE TEMPERATURE\n",
    "T = 300\n",
    "# generate the crystal starting from a geometry that is close to the optimised one\n",
    "a = 4.1\n",
    "#generate the conventional cell\n",
    "MgO = crystal('MgO',basis=[[0.0,0.0,0.0],[0.5,0.5,0.5]],spacegroup=225,cellpar=[a, a, a, 90, 90, 90],primitive_cell=False)\n",
    "\n",
    "#select the size of the supercell\n",
    "supercell = 2\n",
    "#create the supercell\n",
    "MgO_SC_MD = make_supercell(MgO, supercell*np.identity(3))\n",
    "#visualise the cell\n",
    "view(MgO_SC_MD)\n",
    "#name of the calculation\n",
    "label='mgo_SC_MD_{}'.format(T)\n",
    "#select the options for the calculations\n",
    "options = [\n",
    "'integrator leapfrog verlet',\n",
    "'ensemble npt 0.005 0.005',\n",
    "'temperature {}'.format(T),\n",
    "'equil 0.50 ps',\n",
    "'produ 0.50 ps',\n",
    "'timestep 0.001 ps',\n",
    "'sample 0.005 ps',\n",
    "'iterations 5 ',\n",
    "'dump every 5 noover {}.grs'.format(label)]\n",
    "#run the calculation\n",
    "calc = GULP(label=label,keywords='conp md', library='ionic.lib', options=options)\n",
    "MgO_SC_MD.calc = calc\n",
    "MgO_SC_MD.get_potential_energy()\n",
    "#look for the optimised volume in the output\n",
    "for line in reversed(list(open(label+'.got'))):\n",
    "    a = re.match(r'\\s*Cell volume\\s*\\S+\\s*\\S+\\s*=\\s*(\\S+)\\s*(\\S+)', line)\n",
    "    if a:\n",
    "        V_final = a.group(2)\n",
    "        print(' ({} K)  E ='.format(T),MgO_SC_MD.get_potential_energy(),'eV/(Unit cell) - Optimised Volume = ', a.group(2))\n",
    "        break\n",
    "#write the trajectory file to show the movement of the atoms at the temperature of the simulation\n",
    "traj = Trajectory('{}K.trj'.format(label), 'w')    \n",
    "for t in range(1,52):\n",
    "    with open('{}_{}.grs'.format(label,t)) as o:\n",
    "        pos_out = o.readlines()\n",
    "        new_cell = np.zeros((3, 3), dtype=float)\n",
    "        new_pos = np.zeros((MgO_SC_MD.get_number_of_atoms(), 3), dtype=float)\n",
    "        for i,line in enumerate(pos_out):\n",
    "            m =  re.match(r'vectors', line)\n",
    "            if m:\n",
    "                for j in range(0,3):\n",
    "                    new_cell[j] = [float(x) for x in pos_out[i+j+1].split()]\n",
    "            n = re.match(r'cartesian',line)\n",
    "            if n:\n",
    "                for j in range(0,MgO_SC_MD.get_number_of_atoms()):\n",
    "                    first = pos_out[i+j+1].split()\n",
    "                    first = first[2:5]\n",
    "                    new_pos[j] = [float(x) for x in pos_out[i+j+1].split()[2:5]]    \n",
    "        MgO_SC_MD.set_cell(new_cell)\n",
    "        MgO_SC_MD.set_positions(new_pos)\n",
    "        MgO_SC_MD_out = MgO_SC_MD\n",
    "        MgO_SC_MD_out = cut(MgO_SC_MD, origo=(MgO_SC_MD.get_center_of_mass(scaled=True)),extend=1.01)\n",
    "        traj.write(MgO_SC_MD_out)\n",
    "traj.close()\n",
    "#removing the files we don't need anymore to leave the directory clean\n",
    "for i in range(1,52):\n",
    "    if os.path.exists('./mgo_SC_MD_{}_{}.grs'.format(T,i)):\n",
    "        os.remove('./mgo_SC_MD_{}_{}.grs'.format(T,i))\n",
    "    else:\n",
    "        break\n"
   ]
  },
  {
   "cell_type": "code",
   "execution_count": null,
   "metadata": {},
   "outputs": [],
   "source": [
    "#use this cell to animate the motion of the atoms. You will have to change the name of the .trj file\n",
    "! ase gui mgo_SC_MD_300K.trj 2> tmp"
   ]
  },
  {
   "cell_type": "markdown",
   "metadata": {},
   "source": [
    "**Questions**:<br>\n",
    "1. How is the cell we are using here different from the previous ones?<br>\n",
    "    - Why do we need a larger cell?<br>\n",
    "    - Is the cell we are using large enough? Explain why (think about the link between using a grid in reciprocal space and a supercell in real space).<br>\n",
    "    - From your experience of computing an accurate Free Energy how large a cell should be used to perform reliably MD for MgO?<br>\n",
    "    <br>\n",
    "2. Replot your data from the quasi-harmonic approximation calculations as, cell volume per formula unit vs temperature, and add some points from the MD runs at a few suitable temperatures.<br>\n",
    "    - How does the thermal expansion predicted by MD compare to that predicted by the quasi-harmonic approximation?<br>\n",
    "    - Why do the two methods produce different answers? How does the difference depend on temperature?<br>\n",
    "    \n",
    "    - What would happen to the cell volume at very high temperature in the quasi-harmonic approximation and in the MD?<br>"
   ]
  }
 ],
 "metadata": {
  "kernelspec": {
   "display_name": "Python 3",
   "language": "python",
   "name": "python3"
  },
  "language_info": {
   "codemirror_mode": {
    "name": "ipython",
    "version": 3
   },
   "file_extension": ".py",
   "mimetype": "text/x-python",
   "name": "python",
   "nbconvert_exporter": "python",
   "pygments_lexer": "ipython3",
   "version": "3.6.6"
  }
 },
 "nbformat": 4,
 "nbformat_minor": 2
}
