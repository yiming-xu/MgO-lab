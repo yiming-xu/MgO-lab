{
 "cells": [
  {
   "cell_type": "markdown",
   "metadata": {},
   "source": [
    "### <font color=magenta>Nic</font> | <font color=blue>THE_LAB.ipynb</font>"
   ]
  },
  {
   "cell_type": "markdown",
   "metadata": {},
   "source": [
    "\n",
    "Need a method to recover a notebook if broken by editing\n",
    "\n",
    "\n",
    "<font color=green>Victor</font>\n",
    "<br>\n",
    "In aims:\n",
    "Preface with \n",
    "- An understanding of ...\n",
    "\n",
    "Add\n",
    "-  The effects of periodicity in crystals\n",
    "- Experience of one of the few systems in chemisty where the full partition function can be computed\n",
    "\n"
   ]
  },
  {
   "cell_type": "markdown",
   "metadata": {},
   "source": [
    "### <font color=magenta>Nic</font> | <font color=blue>generate.ipynb</font>"
   ]
  },
  {
   "cell_type": "markdown",
   "metadata": {},
   "source": [
    "*Make the instructions more explicit\n",
    "eg: \n",
    "Read the phthon code below. Note the creation of two representations of the MgO crystal stucture. \"MgO\" is the smallest cell that can be used to describe the structure - the primitive cell\n",
    "etc etc*\n",
    "\n",
    "Also explain that right mouse rotates the structure\n",
    "\n",
    "Give them the option to print the cell and to look at the lattice vectors and atomic positions to understand the structure better.\n",
    "\n"
   ]
  },
  {
   "cell_type": "markdown",
   "metadata": {},
   "source": [
    "### <font color=magenta>Giu</font> | <font color=blue>generate.ipynb</font>"
   ]
  },
  {
   "cell_type": "markdown",
   "metadata": {},
   "source": [
    "1) 'Use the key \"r\" in the gui to create a supercell)' maybe add \n",
    "   click on one of the window with either the primitive or the conventional cell\n",
    "   and press \"r\"\n",
    "   \n",
    "Yes, the primitive cell contains 2 atoms, the conventional one 8 atoms.\n"
   ]
  },
  {
   "cell_type": "markdown",
   "metadata": {},
   "source": [
    "### <font color=magenta>Zimen</font> | <font color=blue>generate.ipynb</font>"
   ]
  },
  {
   "cell_type": "markdown",
   "metadata": {},
   "source": [
    "The startup time for this lab is significantly faster compared to the old MgO lab - no set up on Linux required!\n",
    "\n",
    "The cells are very easy to generate and reapeat - good use of visualisation.\n",
    "\n",
    "1) Intuitive, although a key of which colour each atom represents may help although this is easy to figure out.\n",
    "\n",
    "2) I like the fact that you can see all the parameters above. You can see the basis/ spacegroup etc and this helps us to see what is going on with the unit cell.\n",
    "\n",
    "3) Questions are good, get everyone to think about what they are seeing."
   ]
  },
  {
   "cell_type": "markdown",
   "metadata": {},
   "source": [
    "### <font color=magenta>Liam</font> | <font color=blue>generate.ipynb</font>"
   ]
  },
  {
   "cell_type": "markdown",
   "metadata": {},
   "source": [
    "Emphasise whether or not you want the questions answered explicitly in the report (i.e. Q: then A:), or in a more free flowing report style.\n",
    "\n",
    "Do all of the questions need to be answered? Or are they just something to think about? Distinguish them in either case."
   ]
  },
  {
   "cell_type": "markdown",
   "metadata": {},
   "source": [
    "### <font color=magenta>Carles</font> | <font color=blue>generate.ipynb</font>"
   ]
  },
  {
   "cell_type": "markdown",
   "metadata": {},
   "source": [
    "The question \"Which one would you use?\" should be put into context (e.g. in DFT simulations)"
   ]
  },
  {
   "cell_type": "markdown",
   "metadata": {},
   "source": [
    "### <font color=magenta>Nic</font> | <font color=blue>optimisation.ipynb</font>"
   ]
  },
  {
   "cell_type": "markdown",
   "metadata": {},
   "source": [
    "Some slightly more detailed instructions and some comments in the code to allow the interested student to understand what the code is doing\n",
    "\n",
    "Ability to open the GULP log file in an editor \n",
    "\n",
    "Need to save the energy in order to plot E(a) ...\n",
    "\n",
    "Option .. plot E(V) and estimate the bulk modulus of periclase and compare to experiment\n",
    "\n",
    "Option .. have a set of E(a) calculations to start and plot E(a) and E(V) as practice .... then they can see the minimum and can see how the optimise returns to it.\n",
    "\n"
   ]
  },
  {
   "cell_type": "markdown",
   "metadata": {},
   "source": [
    "### <font color=magenta>Giu</font> | <font color=blue>optimisation.ipynb</font>"
   ]
  },
  {
   "cell_type": "markdown",
   "metadata": {},
   "source": [
    "1) In this question 'Try and start from a very small a and a very large a. Plot the E vs MgO distance, does that curve look familiar?', put the lattice vector a in bold."
   ]
  },
  {
   "cell_type": "markdown",
   "metadata": {},
   "source": [
    "2) The student should notice that in the input there is an initial lattice parameter (a=4 for the conventional cell). This cell has a=b=c and 90 degree angles and this is tranformed into a primitive cell with lattice parameters (x,y,z)"
   ]
  },
  {
   "cell_type": "markdown",
   "metadata": {},
   "source": [
    "3) in the title add T=0K \n",
    "\n",
    "4) check shrink factor for the calculation of the lattic energy\n",
    "\n",
    "5) How many steps are needed to reach the optimised geometry? add to exclude cycle 0 which is not considered as a step, since it's the initial geometry.\n",
    "\n",
    "\n",
    "6) the initial geometry is given with respect to the conventional cell, but the final geometry is given with respect to the primitive.  (add a comment and maybe a print out of both."
   ]
  },
  {
   "cell_type": "markdown",
   "metadata": {},
   "source": [
    "a = 2.978324 Angstrom   (a_c_initial=6)\n",
    "\n",
    "\n"
   ]
  },
  {
   "cell_type": "markdown",
   "metadata": {},
   "source": [
    "add a table inside jupyter and a plot"
   ]
  },
  {
   "cell_type": "markdown",
   "metadata": {},
   "source": [
    "In the intro above, add a note to remember that with \"%more mgo_opt.got\" where mgo_out is the label, you can open (in read-only mode) the output file"
   ]
  },
  {
   "cell_type": "markdown",
   "metadata": {},
   "source": [
    "000) save the ouput file in a folder maybe parallel to the lab one."
   ]
  },
  {
   "cell_type": "markdown",
   "metadata": {},
   "source": [
    "BRUNO: change opt - optimise in this part (label)"
   ]
  },
  {
   "cell_type": "markdown",
   "metadata": {},
   "source": [
    "### <font color=magenta>Zimen</font> | <font color=blue>optimisation.ipynb</font>"
   ]
  },
  {
   "cell_type": "markdown",
   "metadata": {},
   "source": [
    "Qs:  Optimisation is required so we can find the energy minimum of the structure - from this we can calculate, with accuracy the physical components of the cell.\n",
    "1) Optimisation works well\n"
   ]
  },
  {
   "cell_type": "code",
   "execution_count": 1,
   "metadata": {},
   "outputs": [
    {
     "name": "stdout",
     "output_type": "stream",
     "text": [
      "Populating the interactive namespace from numpy and matplotlib\n"
     ]
    }
   ],
   "source": [
    "import numpy as np\n",
    "%pylab inline"
   ]
  },
  {
   "cell_type": "code",
   "execution_count": 11,
   "metadata": {},
   "outputs": [
    {
     "data": {
      "image/png": "[encoded data removed]",
      "text/plain": [
       "<matplotlib.figure.Figure at 0x8c77b00>"
      ]
     },
     "metadata": {},
     "output_type": "display_data"
    }
   ],
   "source": [
    "x=array([2.828400,2.971957,2.978336,2.978324])\n",
    "y=array([-40.716251,-40.716251,-41.074756,-41.075318])\n",
    "\n",
    "plot(x,y,marker=\"o\")\n",
    "show()"
   ]
  },
  {
   "cell_type": "markdown",
   "metadata": {},
   "source": [
    "### <font color=magenta>Liam</font> | <font color=blue>optimisation.ipynb</font>"
   ]
  },
  {
   "cell_type": "markdown",
   "metadata": {},
   "source": [
    "Highlight the position of \"a\" in the code. Give the line number so that they don't spend 20 minutes asking you where \"a\" is."
   ]
  },
  {
   "cell_type": "markdown",
   "metadata": {},
   "source": [
    "### <font color=magenta>Nic</font> | <font color=blue>mgo_chain.ipynb</font>"
   ]
  },
  {
   "cell_type": "markdown",
   "metadata": {},
   "source": [
    "*Encourage them to write a summary of the key concepts from the Bilbao notes ... ie: to help them actively read them and think about the ideas*\n",
    "\n",
    "**No output after executing the first cell- need something to confirm that it has run OK**\n",
    "\n",
    "**Encourage the student to read the code and comment the code to help....**\n",
    "\n",
    "*An explanation of the output from cell 4 and as much connection as possible to the Bilbao notes.*\n",
    "\n",
    "**For cell 5 the units used to specify k-points need to be clearer -- in the output k_point refers to an integer label ... the usage is a fractional number between -0.5 and +0.5 etc \n",
    "A check that a reasonable number has been input and some automatic feedback to the student also makes sense**\n",
    "\n",
    "*Here we can point out that the phonons are computed in the primitive cell - one atom - and capture all of the vibrations of the infinite chain.*\n",
    "\n",
    "*Help the student to understand why we are computing the vibrations of a chain .... *\n",
    "\n",
    "*Also how to work out the number of modes for the primitve cell and thus the number at each k-point*\n",
    "\n",
    "**Why a 10 atom supercell and a calculaiton at a 100 k-points **\n",
    "\n",
    "*Need to draw a picture of the 1D BZ and bands and explain sampling etc to prepare them for the 3D case*\n",
    "\n"
   ]
  },
  {
   "cell_type": "markdown",
   "metadata": {},
   "source": [
    "### <font color=magenta>Giu</font> | <font color=blue>mgo_chain.ipynb</font>"
   ]
  },
  {
   "cell_type": "markdown",
   "metadata": {},
   "source": [
    "**1) maybe expand | K point coordinates as fractional of the reciprocal cell **\n",
    "\n",
    "**2) First run the cell below. (Run the following code lines)**\n",
    "\n",
    "**3) In cell above add \"#### DO NOT EDIT BELOW THIS LINE #### \"**\n",
    "\n",
    "**4) # Use this cell if you are using a Linux/Mac OS --- > \"FOR LINUX ONLY\"**\n",
    "\n",
    "**5) when you change supercell, remember to close the window with the visualization of the cell**\n",
    "\n",
    "**6) add a note that says that the cell is periodic only along x, but for visualization purposes you have a 3D cell.**"
   ]
  },
  {
   "cell_type": "markdown",
   "metadata": {},
   "source": [
    "### <font color=magenta>Zimen</font> | <font color=blue>mgo_chain.ipynb</font>"
   ]
  },
  {
   "cell_type": "markdown",
   "metadata": {},
   "source": [
    "*The Language which you use is a little confusing in \"Animate the phonons at Gamma by using a 10...\" cell. Students are introduced to modes seemingly out of no-where so some (small) explanation would be helpful here.*\n",
    "\n"
   ]
  },
  {
   "cell_type": "markdown",
   "metadata": {},
   "source": [
    "### <font color=magenta>Liam</font> | <font color=blue>mgo_chain.ipynb</font>"
   ]
  },
  {
   "cell_type": "markdown",
   "metadata": {},
   "source": [
    "Try to add a section on saving and how they can easily find and compare their tests using the gui.\n",
    "\n",
    "**\"Reduce the simulation to a N cell and check that by repeating this in the gui (press the \"r\" key to open the supercell option in the gui) you obtain the same vibration as before.\" - Maybe call it an \"N unit cell\" and emphasise how it is not necessarily the primitive cell. I imagine some will be confused as to the difference between the starting unit cell and a supercell.**"
   ]
  },
  {
   "cell_type": "markdown",
   "metadata": {},
   "source": [
    "### <font color=magenta>Nic</font> | <font color=blue>phonons_dos.ipynb</font>"
   ]
  },
  {
   "cell_type": "markdown",
   "metadata": {
    "collapsed": true
   },
   "source": [
    "\n",
    "**Lots of comments to lead them through the code. Especially to explain the loop over multiple calculations.**\n",
    "\n",
    "**Maybe make them transfer the a_opt to here so that they appreciate the connection to the optimisation.\n",
    "Also an opportunity to visualise the cell again**\n",
    "\n",
    "*Introduce an image of the Brillouin zone and add the k-point path to it so show how the bands sample to space*\n",
    "\n",
    "*tell them that the DOS is also computed from a sample of that space*\n",
    "\n",
    "*The explanation of the grids N input will then be clearer*\n",
    "\n",
    "Can we introduce a criteria for convergence beyound visual inspection ? eg: a simple integral of the DOS over frequency ?\n",
    "    \n",
    "*Explain what the calculation being done is.*\n",
    "\n",
    "**Option - plot how CPU time depends on N and explain **\n",
    "\n",
    "Option - compute some function of DOS(w) - like the integral above as a quantitative measure of convergence"
   ]
  },
  {
   "cell_type": "markdown",
   "metadata": {},
   "source": [
    "### <font color=magenta>Liam</font> | <font color=blue>phonons_dos.ipynb</font>"
   ]
  },
  {
   "cell_type": "markdown",
   "metadata": {},
   "source": [
    "**Give the line number of \"grids=\".**\n",
    "\n",
    "Last few graphs are missing labels and axes are mismatched.\n"
   ]
  },
  {
   "cell_type": "markdown",
   "metadata": {},
   "source": [
    "### <font color=magenta>Carles</font> | <font color=blue>phonons_dos.ipynb</font>"
   ]
  },
  {
   "cell_type": "markdown",
   "metadata": {},
   "source": [
    "Possible question: state differences and similarities with the electronic density of states."
   ]
  },
  {
   "cell_type": "markdown",
   "metadata": {},
   "source": [
    "### <font color=magenta>Nic</font> | <font color=blue>free_energy.ipynb</font>"
   ]
  },
  {
   "cell_type": "markdown",
   "metadata": {},
   "source": [
    "**We have changed language from Grid to shrinking factor - important to keep language very consistent and clear**\n",
    "\n",
    "**Option - get them to think about the importance of the differences in energy  --- eg: is 0.1eV or 0.001 eV significant\n",
    "perhaps refer back to the E(V) curve and convert a deltaE into a change in volume ? **\n",
    "\n"
   ]
  },
  {
   "cell_type": "markdown",
   "metadata": {},
   "source": [
    "### <font color=magenta>Giu</font> | <font color=blue>free_energy.ipynb</font>"
   ]
  },
  {
   "cell_type": "markdown",
   "metadata": {},
   "source": [
    " **s is the shrinking factor **"
   ]
  },
  {
   "cell_type": "markdown",
   "metadata": {},
   "source": [
    "### <font color=magenta>Zimen</font> | <font color=blue>free_energy.ipynb</font>"
   ]
  },
  {
   "cell_type": "markdown",
   "metadata": {},
   "source": [
    "- Good to give students options on whether to use loops or not\n",
    "- Easy to produce results and then just need to plot graphs"
   ]
  },
  {
   "cell_type": "code",
   "execution_count": 4,
   "metadata": {},
   "outputs": [
    {
     "name": "stdout",
     "output_type": "stream",
     "text": [
      "Populating the interactive namespace from numpy and matplotlib\n"
     ]
    }
   ],
   "source": [
    "%pylab inline"
   ]
  },
  {
   "cell_type": "code",
   "execution_count": 10,
   "metadata": {},
   "outputs": [
    {
     "data": {
      "image/png": "[encoded data removed]",
      "text/plain": [
       "<matplotlib.figure.Figure at 0x8e02128>"
      ]
     },
     "metadata": {},
     "output_type": "display_data"
    }
   ],
   "source": [
    "x=array([1,2,4,8,16,32])\n",
    "y=array([-43.58339701,-43.54652833,-43.54503247,-43.54531891,-43.54536680,-43.54537315])\n",
    "plot(x,y,marker=\"o\",linestyle=\"--\")\n",
    "xlabel(\"k-point\")\n",
    "ylabel(\"Absolute energy\")\n",
    "show()"
   ]
  },
  {
   "cell_type": "markdown",
   "metadata": {
    "collapsed": true
   },
   "source": [
    "- Larger grid size, free energy starts to tend to a given energy because of a greater sampling of recprocal space\n"
   ]
  },
  {
   "cell_type": "markdown",
   "metadata": {},
   "source": [
    "### <font color=magenta>Carles</font> | <font color=blue>free_energy.ipynb</font>"
   ]
  },
  {
   "cell_type": "markdown",
   "metadata": {},
   "source": [
    "They should try to answer the question why the energy oscillates before reaching convergence as opposed to the steady decrease in energy whe optimising the geometry."
   ]
  },
  {
   "cell_type": "markdown",
   "metadata": {},
   "source": [
    "### <font color=magenta>Nic</font> | <font color=blue>ld.ipynb</font>"
   ]
  },
  {
   "cell_type": "markdown",
   "metadata": {},
   "source": [
    "*Need to expain at the top that GULP can take P,T and optimise the structure at finite temperature using the Gibbs Free energy \n",
    "This is quite remarkable so worth emphasising\n",
    "Worth also explaining how it does the optimisation\n",
    "In the first calc print a_lattice as well as V*\n",
    "\n",
    "I added some plotting for E(V) and G(V) ... quite interesting to see the functoinal form of V(T) and of G(T) ... interesting.\n",
    "\n",
    "\n",
    "\n",
    "\n",
    "\n",
    "\n"
   ]
  },
  {
   "cell_type": "markdown",
   "metadata": {},
   "source": [
    "### <font color=magenta>Zimen</font> | <font color=blue>ld.ipynb</font>"
   ]
  },
  {
   "cell_type": "markdown",
   "metadata": {},
   "source": [
    "Again, this is fairly straightforward and not much different from the old MgO lab.\n",
    "\n",
    "In fact, this is better because it is v. easy to plot graphs and no or little data extraction is required via the \"copy/ paste\" method (particularly if you use the loops).\n",
    "\n"
   ]
  },
  {
   "cell_type": "code",
   "execution_count": 7,
   "metadata": {},
   "outputs": [
    {
     "name": "stdout",
     "output_type": "stream",
     "text": [
      "Populating the interactive namespace from numpy and matplotlib\n"
     ]
    }
   ],
   "source": [
    "%pylab inline\n",
    "import numpy as np"
   ]
  },
  {
   "cell_type": "code",
   "execution_count": 9,
   "metadata": {},
   "outputs": [
    {
     "data": {
      "image/png": "[encoded data removed]",
      "text/plain": [
       "<matplotlib.figure.Figure at 0x8870780>"
      ]
     },
     "metadata": {},
     "output_type": "display_data"
    }
   ],
   "source": [
    "x=array([100,200,300,400,500,600,700,800,900,1000])\n",
    "y_fe=array([-40.79007451,-40.79525550,-40.81037290,-40.83609817,-40.87149561,-40.91542990,-40.96688806,-41.02502354,-41.08913775,-41.15865210])\n",
    "plot(x,y_fe,marker=\"o\",linestyle=\"--\")\n",
    "xlabel(\"Temperature/K\")\n",
    "ylabel(\"Absolute energy/ eV\")\n",
    "show()"
   ]
  },
  {
   "cell_type": "code",
   "execution_count": 13,
   "metadata": {},
   "outputs": [
    {
     "data": {
      "text/plain": [
       "array([ 2.66080779,  2.66165212,  2.66324265,  2.66523753,  2.66746925,\n",
       "        2.66986107,  2.67237558,  2.67499824,  2.67771111,  2.68051421])"
      ]
     },
     "execution_count": 13,
     "metadata": {},
     "output_type": "execute_result"
    }
   ],
   "source": [
    "y_lc3=array([18.838248,18.856187,18.890011,18.932491,18.98009,19.031192,19.085014,19.141259,19.199555,19.259914])\n",
    "y_lc=y_lc3**(1/3)\n",
    "y_lc"
   ]
  },
  {
   "cell_type": "code",
   "execution_count": 14,
   "metadata": {},
   "outputs": [
    {
     "data": {
      "image/png": "[encoded data removed]",
      "text/plain": [
       "<matplotlib.figure.Figure at 0x89b3278>"
      ]
     },
     "metadata": {},
     "output_type": "display_data"
    }
   ],
   "source": [
    "x=array([100,200,300,400,500,600,700,800,900,1000])\n",
    "plot(x,y_lc,marker=\"o\",linestyle=\"--\")\n",
    "xlabel(\"Temperature/K\")\n",
    "ylabel(\"Lattice Constant/ Angstrom\")\n",
    "show()"
   ]
  },
  {
   "cell_type": "markdown",
   "metadata": {},
   "source": [
    "### <font color=magenta>Carles</font> | <font color=blue>ld.ipynb</font>"
   ]
  },
  {
   "cell_type": "markdown",
   "metadata": {},
   "source": [
    "Maybe using the lattice parameter of the optimised geometry at 0K for consistency?"
   ]
  },
  {
   "cell_type": "markdown",
   "metadata": {},
   "source": [
    "### <font color=magenta>Giu</font> | <font color=blue>md.ipynb</font>"
   ]
  },
  {
   "cell_type": "markdown",
   "metadata": {},
   "source": [
    "! ase gui mgo_SC_MD_100K.trj 2>&1 > tmp\n",
    "<br>\n",
    "Add the cell without the center of mass and discuss the atoms that are not disappearing (write it as a comment, what happens to the disappearing atoms?)"
   ]
  },
  {
   "cell_type": "markdown",
   "metadata": {},
   "source": [
    "### <font color=magenta>Zimen</font> | <font color=blue>md.ipynb</font>"
   ]
  },
  {
   "cell_type": "markdown",
   "metadata": {},
   "source": [
    "Good that you can see the vibrations occuring in the cell with the animiations.\n",
    "\n",
    "BUT:\n",
    "If you use a loop here then you're graph doesn't give a \"neat\" linear relationship, so students will need to effectively \"reset\" their cell back to default and then plot the points.\n",
    "\n",
    "\n",
    "Supercell size = 2x2\n"
   ]
  },
  {
   "cell_type": "code",
   "execution_count": 8,
   "metadata": {},
   "outputs": [
    {
     "name": "stdout",
     "output_type": "stream",
     "text": [
      "Populating the interactive namespace from numpy and matplotlib\n"
     ]
    }
   ],
   "source": [
    "%pylab inline\n",
    "import numpy as np"
   ]
  },
  {
   "cell_type": "code",
   "execution_count": 13,
   "metadata": {},
   "outputs": [
    {
     "data": {
      "text/plain": [
       "array([ 100,  200,  300,  400,  500,  600,  700,  800,  900, 1000])"
      ]
     },
     "execution_count": 13,
     "metadata": {},
     "output_type": "execute_result"
    }
   ],
   "source": [
    "x= array(range(100,1001,100))\n",
    "x"
   ]
  },
  {
   "cell_type": "code",
   "execution_count": 14,
   "metadata": {},
   "outputs": [
    {
     "data": {
      "text/plain": [
       "<matplotlib.text.Text at 0xb589f28>"
      ]
     },
     "execution_count": 14,
     "metadata": {},
     "output_type": "execute_result"
    },
    {
     "data": {
      "image/png": "[encoded data removed]",
      "text/plain": [
       "<matplotlib.figure.Figure at 0xb4f14e0>"
      ]
     },
     "metadata": {},
     "output_type": "display_data"
    }
   ],
   "source": [
    "y=array([599.395871,600.510403,602.750445,604.253330,606.169878,608.237346,609.082572,612.256651,613.689681,615.358894])\n",
    "ythird=y**(1/3)\n",
    "\n",
    "plot(x,ythird,marker=\"o\",linestyle=\"--\")\n",
    "xlabel(\"Temperature /K\")\n",
    "ylabel(\"Lattice Parameter/ Angstrom\")"
   ]
  },
  {
   "cell_type": "code",
   "execution_count": null,
   "metadata": {
    "collapsed": true
   },
   "outputs": [],
   "source": [
    "y1=array([])\n",
    "ythird2=y**(1/3)\n",
    "\n",
    "plot(x,ythird2,marker=\"o\",linestyle=\"--\")\n",
    "xlabel(\"Temperature /K\")\n",
    "ylabel(\"Lattice Parameter/ Angstrom\")"
   ]
  },
  {
   "cell_type": "markdown",
   "metadata": {},
   "source": [
    "### <font color=magenta>Carles</font> | <font color=blue>md.ipynb</font>"
   ]
  },
  {
   "cell_type": "markdown",
   "metadata": {},
   "source": [
    "Indicate what each cell is doing.\n",
    "Option to loop through different cell sizes and divide the volume by the number of cells (maybe they can do it by themselves).Also make sure to tell them that the 4x4x4 supercell is too large to compute. Maybe it's useful to separate the trajectory calculation part from the cell volume calculation"
   ]
  }
 ],
 "metadata": {
  "kernelspec": {
   "display_name": "Python 3",
   "language": "python",
   "name": "python3"
  },
  "language_info": {
   "codemirror_mode": {
    "name": "ipython",
    "version": 3
   },
   "file_extension": ".py",
   "mimetype": "text/x-python",
   "name": "python",
   "nbconvert_exporter": "python",
   "pygments_lexer": "ipython3",
   "version": "3.6.5"
  }
 },
 "nbformat": 4,
 "nbformat_minor": 2
}
