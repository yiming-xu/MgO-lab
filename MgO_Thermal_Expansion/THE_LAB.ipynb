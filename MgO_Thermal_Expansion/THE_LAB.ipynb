{
 "cells": [
  {
   "cell_type": "markdown",
   "metadata": {},
   "source": [
    "# The Free Energy and Thermal Expansion of MgO\n",
    "\n",
    "**The script for this laboratory was firstly developed by [Dr. Bruno Camino](http://www.linkedin.com/in/bruno-camino-a11b8858) in 2018 following a previous version of the same [laboratory](http://www.ch.ic.ac.uk/harrison/Teaching/Thermal_Expansion/index.html).**"
   ]
  },
  {
   "cell_type": "markdown",
   "metadata": {},
   "source": [
    "## Student name:\n",
    "[Files submission](#submission)"
   ]
  },
  {
   "cell_type": "markdown",
   "metadata": {},
   "source": [
    "## Laboratory"
   ]
  },
  {
   "cell_type": "markdown",
   "metadata": {},
   "source": [
    "[Settings](settings.ipynb) (You will only need to run this the first time you start the lab on a new computer.)\n",
    "<br>\n",
    "[Generate the structure](Exercises/generate.ipynb)\n",
    "<br>\n",
    "[Optimise the structure](Exercises/optimisation.ipynb)\n",
    "<br>\n",
    "[Phonons of a MgO chain](Exercises/mgo_chain.ipynb)\n",
    "<br>\n",
    "[Phonons and DOS of the MgO bulk](Exercises/phonons_dos.ipynb)\n",
    "<br>\n",
    "[Calculation the Gibbs free energy of MgO](Exercises/free_energy.ipynb)\n",
    "<br>\n",
    "Thermal expansion of MgO:\n",
    "- [Lattice dynamics](Exercises/ld.ipynb)\n",
    "- [Molecular dynamics](Exercises/md.ipynb)\n",
    "<br>\n",
    "<br>\n"
   ]
  },
  {
   "cell_type": "markdown",
   "metadata": {},
   "source": [
    "If you need help with the Jupyter notebook, python, ... please have a look at the [cheat sheet](Exercises/cheat.ipynb).\n",
    "<br>"
   ]
  },
  {
   "cell_type": "markdown",
   "metadata": {},
   "source": [
    "### Files submission <a id='submission'></a>\n",
    "\n",
    "To submit your files, insert your CID below and execute the cell. This will create a folder called MgO_TE_yourCIDnumber. This folder contains all the Jupyter notebooks, including the figures and a folder with the relevant outputs. Please upload the MgO_TE_yourCIDnumber to blackboard."
   ]
  },
  {
   "cell_type": "code",
   "execution_count": null,
   "metadata": {},
   "outputs": [],
   "source": [
    "import os\n",
    "from shutil import copyfile, copytree, rmtree\n",
    "\n",
    "# INSERT YOU CID HERE\n",
    "CID = \n",
    "\n",
    "if os.path.isdir(\"./MgO_TE_{}/\".format(CID)):\n",
    "    rmtree(\"./MgO_TE_{}/\".format(CID))\n",
    "#if os.path.isdir(\"./MgO_TE_{}/output/\".format(CID)):\n",
    "#    rmtree(\"./MgO_TE_{}/output/\".format(CID))\n",
    "os.mkdir(\"./MgO_TE_{}/\".format(CID))\n",
    "os.mkdir(\"./MgO_TE_{}/output/\".format(CID))\n",
    "\n",
    "\n",
    "for f in os.listdir(\"./\"):\n",
    "    if f.startswith(\".\") == False:\n",
    "        if f.endswith(\".ipynb\"):\n",
    "            copyfile(f,\"./MgO_TE_{}/{}\".format(CID,f))\n",
    "        elif f.endswith(\".gin\") or f.endswith(\".got\"):\n",
    "            copyfile(f,\"./MgO_TE_{}/output/{}\".format(CID,f))\n",
    "    \n",
    "\n",
    "copytree(\"./figures/\",\"./MgO_TE_{}/figures/\".format(CID)) \n",
    ";\n",
    "print('Files copied correctly')\n"
   ]
  },
  {
   "cell_type": "markdown",
   "metadata": {},
   "source": [
    " "
   ]
  }
 ],
 "metadata": {
  "kernelspec": {
   "display_name": "Python 2",
   "language": "python",
   "name": "python2"
  },
  "language_info": {
   "codemirror_mode": {
    "name": "ipython",
    "version": 2
   },
   "file_extension": ".py",
   "mimetype": "text/x-python",
   "name": "python",
   "nbconvert_exporter": "python",
   "pygments_lexer": "ipython2",
   "version": "2.7.14"
  }
 },
 "nbformat": 4,
 "nbformat_minor": 2
}
